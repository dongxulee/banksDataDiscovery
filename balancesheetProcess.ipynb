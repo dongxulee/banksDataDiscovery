{
 "cells": [
  {
   "cell_type": "code",
   "execution_count": 1,
   "metadata": {},
   "outputs": [
    {
     "name": "stdout",
     "output_type": "stream",
     "text": [
      "Populating the interactive namespace from numpy and matplotlib\n"
     ]
    }
   ],
   "source": [
    "import pandas as pd\n",
    "import numpy as np\n",
    "import os\n",
    "import wget\n",
    "%pylab inline "
   ]
  },
  {
   "cell_type": "code",
   "execution_count": 2,
   "metadata": {},
   "outputs": [],
   "source": [
    "# open the csv file with sheet name\n",
    "varToName = pd.read_excel('nameMapping.xlsx', sheet_name='Reference-Variables&Definitions')\n",
    "codes = varToName['Variable'].values\n",
    "# construct a dictionary that maps one column to another column \n",
    "code2name = dict(zip(varToName['Variable'], varToName['Title']))"
   ]
  },
  {
   "cell_type": "code",
   "execution_count": 3,
   "metadata": {},
   "outputs": [
    {
     "data": {
      "text/plain": [
       "{'ID', 'INSAGNT1', 'INSDATE'}"
      ]
     },
     "execution_count": 3,
     "metadata": {},
     "output_type": "execute_result"
    }
   ],
   "source": [
    "# read in all the files in totalAssets folder as pandas dataframe\n",
    "noCodes = set()\n",
    "for file in os.listdir('totalAssets'):\n",
    "    df = pd.read_csv('totalAssets/' + file)\n",
    "    for code in df.columns:\n",
    "        if code not in codes:\n",
    "            noCodes.add(code)\n",
    "\n",
    "for file in os.listdir('totalLiabilities'):\n",
    "    df = pd.read_csv('totalLiabilities/' + file)\n",
    "    for code in df.columns:\n",
    "        if code not in codes:\n",
    "            noCodes.add(code)\n",
    "noCodes"
   ]
  },
  {
   "cell_type": "code",
   "execution_count": 4,
   "metadata": {},
   "outputs": [
    {
     "name": "stdout",
     "output_type": "stream",
     "text": [
      "(8461, 225)\n",
      "(8461, 135)\n"
     ]
    }
   ],
   "source": [
    "for file in os.listdir('totalAssets')[:1]:\n",
    "    df = pd.read_csv('totalAssets/' + file)\n",
    "    print(df.shape)\n",
    "for file in os.listdir('totalLiabilities')[:1]:\n",
    "    df = pd.read_csv('totalLiabilities/' + file)\n",
    "    print(df.shape)"
   ]
  },
  {
   "cell_type": "code",
   "execution_count": 5,
   "metadata": {},
   "outputs": [],
   "source": [
    "df_asset = None \n",
    "for file in os.listdir('totalAssets'):\n",
    "    if df_asset is None:\n",
    "        df_asset = pd.read_csv('totalAssets/' + file)\n",
    "    else:\n",
    "        df_asset = pd.concat([df_asset, pd.read_csv('totalAssets/' + file)], axis = 0)"
   ]
  },
  {
   "cell_type": "code",
   "execution_count": 6,
   "metadata": {},
   "outputs": [],
   "source": [
    "df_liability = None \n",
    "for file in os.listdir('totalLiabilities'):\n",
    "    if df_liability is None:\n",
    "        df_liability = pd.read_csv('totalLiabilities/' + file)\n",
    "    else:\n",
    "        df_liability = pd.concat([df_liability, pd.read_csv('totalLiabilities/' + file)], axis = 0)"
   ]
  },
  {
   "cell_type": "code",
   "execution_count": 7,
   "metadata": {},
   "outputs": [
    {
     "name": "stdout",
     "output_type": "stream",
     "text": [
      "(644862, 225)\n",
      "(644862, 135)\n"
     ]
    }
   ],
   "source": [
    "print(df_asset.shape)\n",
    "print(df_liability.shape)"
   ]
  },
  {
   "cell_type": "code",
   "execution_count": 8,
   "metadata": {},
   "outputs": [],
   "source": [
    "df_asset.to_csv('totalAssets.csv', index = False)\n",
    "df_liability.to_csv('totalLiabilities.csv', index = False)"
   ]
  },
  {
   "cell_type": "code",
   "execution_count": 9,
   "metadata": {},
   "outputs": [
    {
     "name": "stdout",
     "output_type": "stream",
     "text": [
      "(644862, 225)\n",
      "(644862, 135)\n",
      "(644862, 331)\n"
     ]
    }
   ],
   "source": [
    "df_asset = pd.read_csv('totalAssets.csv')\n",
    "df_liability = pd.read_csv('totalLiabilities.csv')\n",
    "# merge two dataframes on the same columns\n",
    "df = pd.merge(df_asset, df_liability, on=list(set(df_asset.columns) & set(df_liability.columns)))\n",
    "df[\"REPDTE\"] = pd.to_datetime(df[\"REPDTE\"], format=\"%Y%m%d\").dt.date\n",
    "df = df.sort_values([\"REPDTE\", \"ASSET\", \"LIAB\"], ascending=[False, False, False])\n",
    "print(df_asset.shape)\n",
    "print(df_liability.shape)\n",
    "print(df.shape)\n",
    "df.to_csv('df.csv', index=False)"
   ]
  },
  {
   "cell_type": "code",
   "execution_count": null,
   "metadata": {},
   "outputs": [],
   "source": []
  }
 ],
 "metadata": {
  "kernelspec": {
   "display_name": "base",
   "language": "python",
   "name": "python3"
  },
  "language_info": {
   "codemirror_mode": {
    "name": "ipython",
    "version": 3
   },
   "file_extension": ".py",
   "mimetype": "text/x-python",
   "name": "python",
   "nbconvert_exporter": "python",
   "pygments_lexer": "ipython3",
   "version": "3.9.13"
  },
  "orig_nbformat": 4
 },
 "nbformat": 4,
 "nbformat_minor": 2
}
